{
 "cells": [
  {
   "cell_type": "code",
   "execution_count": 2,
   "metadata": {},
   "outputs": [],
   "source": [
    "import cv2\n",
    "import numpy as np"
   ]
  },
  {
   "cell_type": "code",
   "execution_count": 24,
   "metadata": {},
   "outputs": [],
   "source": [
    "HORI_RES = 180\n",
    "ASPECT = 2.5 # Height of Character / Width of Character in terminal\n",
    "\n",
    "def resize(img, hori_res, character_aspect_ratio):\n",
    "    new_size = (hori_res, int(hori_res / character_aspect_ratio * img.shape[0] // img.shape[1]))\n",
    "    return cv2.resize(img, new_size)    \n",
    "\n",
    "def black_white(img):\n",
    "    return (~np.round(img / 255).astype(bool)).astype(int)\n",
    "\n"
   ]
  },
  {
   "cell_type": "code",
   "execution_count": 14,
   "metadata": {},
   "outputs": [],
   "source": [
    "def to_ascii(img):\n",
    "    with open(\"shitty_ascii.txt\", \"w\") as f:\n",
    "        write = \"\\n\".join([\"\".join([\" \" if x == 0 else '#' for x in row]) for row in img])\n",
    "        f.write(write)\n",
    "\n",
    "def to_text_python_list(img):\n",
    "    with open(\"python_list.txt\", \"w\") as f:\n",
    "        f.write(str(img.tolist()))\n",
    "\n",
    "def to_text_lisp_list(img):\n",
    "    with open(\"lisp_list.txt\", \"w\") as f:\n",
    "        f.write(\"'\" + str(img.tolist()).replace(\", \", \" \").replace(\"[\", \"(\").replace(\"]\", \")\"))\n"
   ]
  },
  {
   "cell_type": "code",
   "execution_count": 25,
   "metadata": {},
   "outputs": [],
   "source": [
    "img = cv2.imread(f\"bad_apple/image_sequence/bad_apple_{291}.png\", cv2.IMREAD_GRAYSCALE)\n",
    "img = resize(img, HORI_RES, ASPECT)\n",
    "img = black_white(img)\n",
    "\n",
    "to_text_lisp_list(img)"
   ]
  },
  {
   "cell_type": "code",
   "execution_count": 12,
   "metadata": {},
   "outputs": [],
   "source": [
    "def create_wrapped_text(frame, text):\n",
    "    word_count = 0\n",
    "    full_wrapped_text = \"\"\n",
    "\n",
    "    for i in range(len(frame)):\n",
    "        pixel_count = 0\n",
    "        wrapped_line = \"\"\n",
    "\n",
    "        row = frame[i]\n",
    "\n",
    "        while pixel_count < len(row):\n",
    "            word = text[word_count] + \" \"\n",
    "        \n",
    "            word_len = len(word)\n",
    "            look_ahead = row[pixel_count:pixel_count+word_len]\n",
    "            look_ahead.extend([0] * (word_len - len(look_ahead))) # pad to avoid possible bug where if we are at the end of the row e.g. [1, 0, 0] but the word is longer e.g. \"lisp\", then the arrays are no longer the same length and we can't xor them\n",
    "\n",
    "            word_reduced = [0 if x == \" \" else 1 for x in word]\n",
    "\n",
    "            if sum(~np.logical_xor(word_reduced, look_ahead)) / len(look_ahead) > .6: \n",
    "                wrapped_line += word\n",
    "                \n",
    "                word_count += 1\n",
    "                pixel_count += word_len\n",
    "            else:\n",
    "                wrapped_line += \" \"\n",
    "                pixel_count += 1\n",
    "\n",
    "        full_wrapped_text += wrapped_line + \"\\n\"\n",
    "\n",
    "    return full_wrapped_text\n"
   ]
  },
  {
   "cell_type": "code",
   "execution_count": 13,
   "metadata": {},
   "outputs": [],
   "source": [
    "NUM_FRAMES = 520\n",
    "\n",
    "lorem_ipsum_text = open(\"lorem_ipsum.txt\").read().split()\n",
    "\n",
    "for i in range(1, NUM_FRAMES):\n",
    "    str_i = str(i)\n",
    "\n",
    "    while len(str_i) < 3:\n",
    "        str_i = \"0\" + str_i\n",
    "\n",
    "    img = cv2.imread(f\"bad_apple/image_sequence/bad_apple_{str_i}.png\", cv2.IMREAD_GRAYSCALE)\n",
    "    img = resize(img, HORI_RES, ASPECT)\n",
    "    img = black_white(img)\n",
    "    img = img.tolist()\n",
    "\n",
    "    wrap_text = create_wrapped_text(img, lorem_ipsum_text)\n",
    "\n",
    "    with open(f\"output/wrapped_output_{str(i)}.txt\", \"w\") as f:\n",
    "        f.write(wrap_text)\n",
    "    \n",
    "    "
   ]
  }
 ],
 "metadata": {
  "kernelspec": {
   "display_name": ".venv",
   "language": "python",
   "name": "python3"
  },
  "language_info": {
   "codemirror_mode": {
    "name": "ipython",
    "version": 3
   },
   "file_extension": ".py",
   "mimetype": "text/x-python",
   "name": "python",
   "nbconvert_exporter": "python",
   "pygments_lexer": "ipython3",
   "version": "3.10.4"
  }
 },
 "nbformat": 4,
 "nbformat_minor": 2
}
